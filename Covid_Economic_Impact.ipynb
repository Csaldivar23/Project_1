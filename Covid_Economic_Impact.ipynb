{
 "cells": [
  {
   "cell_type": "code",
   "execution_count": 4,
   "id": "6d4de411-3b3a-4102-b5c5-bcd4fde8d838",
   "metadata": {},
   "outputs": [
    {
     "ename": "ModuleNotFoundError",
     "evalue": "No module named 'Fred_Api'",
     "output_type": "error",
     "traceback": [
      "\u001b[1;31m---------------------------------------------------------------------------\u001b[0m",
      "\u001b[1;31mModuleNotFoundError\u001b[0m                       Traceback (most recent call last)",
      "Cell \u001b[1;32mIn[4], line 9\u001b[0m\n\u001b[0;32m      7\u001b[0m \u001b[38;5;28;01mimport\u001b[39;00m \u001b[38;5;21;01mnumpy\u001b[39;00m \u001b[38;5;28;01mas\u001b[39;00m \u001b[38;5;21;01mnp\u001b[39;00m\n\u001b[0;32m      8\u001b[0m \u001b[38;5;28;01mfrom\u001b[39;00m \u001b[38;5;21;01mscipy\u001b[39;00m\u001b[38;5;21;01m.\u001b[39;00m\u001b[38;5;21;01mstats\u001b[39;00m \u001b[38;5;28;01mimport\u001b[39;00m linregress\n\u001b[1;32m----> 9\u001b[0m \u001b[38;5;28;01mfrom\u001b[39;00m \u001b[38;5;21;01mFred_Api\u001b[39;00m \u001b[38;5;28;01mimport\u001b[39;00m Api_Key\n",
      "\u001b[1;31mModuleNotFoundError\u001b[0m: No module named 'Fred_Api'"
     ]
    }
   ],
   "source": [
    "# importing modules\n",
    "import pandas as pd\n",
    "import requests\n",
    "import matplotlib.pyplot as plt\n",
    "import matplotlib.dates as mdates\n",
    "import datetime as dt\n",
    "import numpy as np\n",
    "from scipy.stats import linregress\n",
    "from Fred_Api import Api_Key"
   ]
  },
  {
   "cell_type": "code",
   "execution_count": null,
   "id": "11aeacfd-83b7-4072-9f63-aebabb7077b1",
   "metadata": {},
   "outputs": [],
   "source": [
    "# reading covid hospitaliztions csv file into DataFrame\n",
    "covid_hospitalizations = pd.read_csv(\"3_col_Monthly_COVID_Hospitaliztions.csv\")\n",
    "\n",
    "# calculating average hospitalizations per state\n",
    "avg_hospitalizations_per_state = covid_hospitalizations.groupby('State')['Monthly COVID Rate'].mean().reset_index()\n",
    "\n",
    "# renaming column\n",
    "avg_hospitalizations_per_state.columns = [\"State\", \"Monthly Covid Rate (by hundreds of thousands)\"]\n",
    "avg_hospitalizations_per_state"
   ]
  },
  {
   "cell_type": "code",
   "execution_count": null,
   "id": "29b067c9-5896-4d0e-b054-2812e9533e2f",
   "metadata": {},
   "outputs": [],
   "source": [
    "# reading state unemployment rate csv file into DataFrame\n",
    "state_unemployment_rate = pd.read_csv(\"State_Unemployment_Rate.csv\")\n",
    "\n",
    "# calculating average unemployment rate per state\n",
    "avg_state_unemployment_rate = state_unemployment_rate.groupby('State')['Unemployment Percentage'].mean().reset_index()\n",
    "\n",
    "# renaming column\n",
    "avg_state_unemployment_rate.columns = [\"State\", \"Monthly Unemployment Rate (by Percentage)\"]\n",
    "avg_state_unemployment_rate"
   ]
  },
  {
   "cell_type": "code",
   "execution_count": null,
   "id": "410a7c30-5f41-4860-afc8-1fcbd8d13af6",
   "metadata": {},
   "outputs": [],
   "source": [
    "# reading cpi data csv file into DataFrame\n",
    "cpi_data = pd.read_csv(\"CPI_Data.csv\")\n",
    "cpi_data"
   ]
  },
  {
   "cell_type": "code",
   "execution_count": null,
   "id": "316c45e4-ea95-463b-aad1-3ba65e3c757c",
   "metadata": {},
   "outputs": [],
   "source": [
    "# merging average phospitalizations per state and state unemployment rate csv files into new DataFrame\n",
    "covid_rate_unemployment = avg_hospitalizations_per_state.merge(avg_state_unemployment_rate, on=[\"State\"])\n",
    "covid_rate_unemployment"
   ]
  },
  {
   "cell_type": "code",
   "execution_count": 2,
   "id": "8744dd33-6510-4c1f-9a43-1ba5ff370753",
   "metadata": {},
   "outputs": [
    {
     "ename": "NameError",
     "evalue": "name 'covid_rate_unemployment' is not defined",
     "output_type": "error",
     "traceback": [
      "\u001b[1;31m---------------------------------------------------------------------------\u001b[0m",
      "\u001b[1;31mNameError\u001b[0m                                 Traceback (most recent call last)",
      "Cell \u001b[1;32mIn[2], line 2\u001b[0m\n\u001b[0;32m      1\u001b[0m \u001b[38;5;66;03m# merging cpi data csv with new DataFrame to create full DataFrame\u001b[39;00m\n\u001b[1;32m----> 2\u001b[0m covid_economic_data \u001b[38;5;241m=\u001b[39m \u001b[43mcovid_rate_unemployment\u001b[49m\u001b[38;5;241m.\u001b[39mmerge(cpi_data)\n",
      "\u001b[1;31mNameError\u001b[0m: name 'covid_rate_unemployment' is not defined"
     ]
    }
   ],
   "source": [
    "# merging cpi data csv with new DataFrame to create full DataFrame\n",
    "covid_economic_data = covid_rate_unemployment.merge(cpi_data)"
   ]
  },
  {
   "cell_type": "code",
   "execution_count": null,
   "id": "cc9c0da8-ce71-4952-b299-5e69a5b0de6b",
   "metadata": {},
   "outputs": [],
   "source": [
    "# displaying full DataFrame\n",
    "covid_economic_data.head()"
   ]
  },
  {
   "cell_type": "code",
   "execution_count": null,
   "id": "62091a01-8a04-484a-988b-ec672dc056a6",
   "metadata": {},
   "outputs": [],
   "source": [
    "average_per_state = covid_economic_data.groupby('State').mean()\n",
    "\n",
    "average_per_state = average_per_state.reset_index()\n",
    "\n",
    "print(average_per_state)"
   ]
  },
  {
   "cell_type": "code",
   "execution_count": null,
   "id": "b62f95be-dd43-4279-9b05-e5d21a35b218",
   "metadata": {},
   "outputs": [],
   "source": [
    "\n",
    "plt.figure(figsize=(10, 6))\n",
    "plt.xticks(rotation=90)\n",
    "\n",
    "#plt.bar(covid_economic_data[\"Date\"], covid_economic_data[\"Monthly COVID Rate\"], color=\"orange\")\n",
    "plt.bar(covid_economic_data[\"Date\"], covid_economic_data[\"Unemployment Percentage\"], color=\"blue\", alpha=0.1)\n",
    "plt.bar(covid_economic_data[\"Date\"], covid_economic_data[\"CPI Median\"], color=\"orange\", alpha=0.05)\n",
    "\n",
    "#plt.xlim(0, max(cars_in_cities)+10)\n",
    "#plt.ylim(0, max(cars_in_cities)+10)\n",
    "\n",
    "#ax.xaxis.set_major_locator(mdates.MonthLocator(bymonth=(3, 9)))\n",
    "plt.show()"
   ]
  },
  {
   "cell_type": "code",
   "execution_count": null,
   "id": "0f99ff27-bb4c-441e-b685-919855de4208",
   "metadata": {},
   "outputs": [],
   "source": []
  },
  {
   "cell_type": "code",
   "execution_count": null,
   "id": "ccf5cdc5-43e6-48fd-8208-9ce43f8fd55f",
   "metadata": {},
   "outputs": [],
   "source": []
  },
  {
   "cell_type": "code",
   "execution_count": null,
   "id": "1a88168d-39ce-4457-a752-1b06025544ef",
   "metadata": {},
   "outputs": [],
   "source": []
  },
  {
   "cell_type": "code",
   "execution_count": null,
   "id": "11a286e8-62f5-4253-94ec-7a464b8bdd5d",
   "metadata": {},
   "outputs": [],
   "source": []
  },
  {
   "cell_type": "code",
   "execution_count": null,
   "id": "4f8dadb3-c06c-458c-8f94-5ad0e47b3720",
   "metadata": {},
   "outputs": [],
   "source": []
  },
  {
   "cell_type": "code",
   "execution_count": null,
   "id": "5263399c-4c5a-4221-8c29-0ba4ac0655b6",
   "metadata": {},
   "outputs": [],
   "source": []
  },
  {
   "cell_type": "code",
   "execution_count": null,
   "id": "2c6bab76-a3cc-43d9-84bb-045df7ebff95",
   "metadata": {},
   "outputs": [],
   "source": []
  },
  {
   "cell_type": "code",
   "execution_count": null,
   "id": "4b0955c9-f650-448a-85ce-1b02587b2706",
   "metadata": {},
   "outputs": [],
   "source": [
    "whatever,ax = plt.subplots(figsize=(30, 10))\n",
    "ax.plot(covid_rate_unemployment[\"State\"], covid_rate_unemployment[\"Monthly COVID Rate\"], color=\"blue\")\n",
    "ax.plot(covid_rate_unemployment[\"Date\"], covid_rate_unemployment[\"Unemployment Percentage\"], color=\"green\")\n",
    "plt.xlabel('Date by Month')\n",
    "ax.set_xticks(covid_rate_unemployment[\"Date\"])\n",
    "ax.xaxis.set_major_locator(mdates.MonthLocator(bymonth=(3, 9)))\n",
    "#ax.axvspan(*mdates.datestr2num(['2020/03/01', '2021/03/01']), color='red', alpha=0.5)\n",
    "\n",
    "plt.ylabel('CPI Median')\n",
    "plt.title('undefined')\n",
    "\n",
    "plt.legend(handles=[\"Monthly COVID Rate\", \"Unemployment Percentage\"], loc=\"best\")\n",
    "plt.show()"
   ]
  },
  {
   "cell_type": "code",
   "execution_count": null,
   "id": "7b87165b-d6d0-4c69-97e5-b9c9b319ed1a",
   "metadata": {},
   "outputs": [],
   "source": []
  },
  {
   "cell_type": "code",
   "execution_count": null,
   "id": "25793913-9956-47e9-b17c-8885b45d2ad1",
   "metadata": {},
   "outputs": [],
   "source": []
  },
  {
   "cell_type": "code",
   "execution_count": null,
   "id": "469953b0-0ce3-4e1c-aa71-7eb5d443ab1e",
   "metadata": {},
   "outputs": [],
   "source": []
  },
  {
   "cell_type": "code",
   "execution_count": null,
   "id": "cee8905b-193a-4898-a2df-6d972bf8dcb4",
   "metadata": {},
   "outputs": [],
   "source": []
  },
  {
   "cell_type": "code",
   "execution_count": null,
   "id": "ba005fb1-c275-45ae-bb07-23c7081d5eec",
   "metadata": {},
   "outputs": [],
   "source": [
    "#average = covid_economic_data.groupby(covid_economic_data['State'] == \"California\")"
   ]
  },
  {
   "cell_type": "code",
   "execution_count": null,
   "id": "ef301a3a-ea44-4eac-b882-0dc535f4114a",
   "metadata": {},
   "outputs": [],
   "source": []
  },
  {
   "cell_type": "code",
   "execution_count": null,
   "id": "55cf8ab9-0148-4b43-b3c8-eb414641729d",
   "metadata": {},
   "outputs": [],
   "source": []
  },
  {
   "cell_type": "code",
   "execution_count": null,
   "id": "9de7110a-c9b0-4431-9a9f-56878a7ee2ff",
   "metadata": {},
   "outputs": [],
   "source": []
  },
  {
   "cell_type": "code",
   "execution_count": null,
   "id": "84e454b2-2b28-4db9-9d3b-325ad8f572fe",
   "metadata": {},
   "outputs": [],
   "source": []
  },
  {
   "cell_type": "code",
   "execution_count": null,
   "id": "511f890b-8a9c-49e4-b664-9311fd8cab28",
   "metadata": {},
   "outputs": [],
   "source": []
  },
  {
   "cell_type": "code",
   "execution_count": null,
   "id": "89dfc963-7da7-4fed-a9b4-4b5d9bef0973",
   "metadata": {},
   "outputs": [],
   "source": []
  },
  {
   "cell_type": "code",
   "execution_count": null,
   "id": "ac75fc9f-a795-49fc-8553-70f906f1b96b",
   "metadata": {},
   "outputs": [],
   "source": []
  },
  {
   "cell_type": "code",
   "execution_count": null,
   "id": "1ef9320b-c24b-45e4-b7a4-fa56a0735414",
   "metadata": {},
   "outputs": [],
   "source": []
  },
  {
   "cell_type": "code",
   "execution_count": null,
   "id": "796bd080-2343-4f4e-86a8-7b8e8c67f983",
   "metadata": {},
   "outputs": [],
   "source": []
  },
  {
   "cell_type": "code",
   "execution_count": null,
   "id": "75f3c0f7-5add-42b1-81b2-7223be4c8146",
   "metadata": {},
   "outputs": [],
   "source": []
  },
  {
   "cell_type": "code",
   "execution_count": null,
   "id": "8ef301d9-f30a-4d9a-bdb1-3bb6a8baf75c",
   "metadata": {},
   "outputs": [],
   "source": [
    "# converting months to datetime\n",
    "cpi_data['Date by Month'] = pd.to_datetime(cpi_data['Date by Month'])\n",
    "\n",
    "# plotting\n",
    "fig,ax=plt.subplots(figsize=(30, 10))\n",
    "ax.plot(cpi_data['Date by Month'], cpi_data['CPI Median'])\n",
    "plt.xlabel('Date by Month')\n",
    "ax.set_xticks(cpi_data['Date by Month'])\n",
    "ax.xaxis.set_major_locator(mdates.MonthLocator(bymonth=(1, 7)))\n",
    "ax.axvspan(*mdates.datestr2num(['2020/03/01', '2021/03/01']), color='red', alpha=0.5)\n",
    "plt.ylabel('CPI Median')\n",
    "plt.title('undefined')\n",
    "plt.show()"
   ]
  }
 ],
 "metadata": {
  "kernelspec": {
   "display_name": "Python 3 (ipykernel)",
   "language": "python",
   "name": "python3"
  },
  "language_info": {
   "codemirror_mode": {
    "name": "ipython",
    "version": 3
   },
   "file_extension": ".py",
   "mimetype": "text/x-python",
   "name": "python",
   "nbconvert_exporter": "python",
   "pygments_lexer": "ipython3",
   "version": "3.10.14"
  }
 },
 "nbformat": 4,
 "nbformat_minor": 5
}
